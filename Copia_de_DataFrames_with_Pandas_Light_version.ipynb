{
  "cells": [
    {
      "cell_type": "markdown",
      "metadata": {
        "id": "view-in-github",
        "colab_type": "text"
      },
      "source": [
        "<a href=\"https://colab.research.google.com/github/AndresVelezR/python-pip/blob/main/Copia_de_DataFrames_with_Pandas_Light_version.ipynb\" target=\"_parent\"><img src=\"https://colab.research.google.com/assets/colab-badge.svg\" alt=\"Open In Colab\"/></a>"
      ]
    },
    {
      "cell_type": "markdown",
      "id": "191167cc",
      "metadata": {
        "id": "191167cc"
      },
      "source": [
        "# What is Pandas?\n",
        "\n",
        "`Pandas` is a Python library designed for tabular data handling. This data can be strings, numbers, dates and time series. A **DataFrame** is a two-dimensional data structure (rows by columns). The columns contain the variables, and the rows contain the observations. The columns can be heterogeneous and handle different types of data. The advantage of working with DataFrames is that they can be grouped, fill in missing data, and create pivot tables, among others.\n",
        "\n",
        "DataFrames can be created empty, they can be created from NumPy arrays, or they can be created from database files stored on your computer."
      ]
    },
    {
      "cell_type": "code",
      "source": [
        "from google.colab import drive\n",
        "drive.mount('/content/drive')"
      ],
      "metadata": {
        "id": "C-tRV7Q58z4b"
      },
      "id": "C-tRV7Q58z4b",
      "execution_count": null,
      "outputs": []
    },
    {
      "cell_type": "markdown",
      "id": "020e0b7d",
      "metadata": {
        "id": "020e0b7d"
      },
      "source": [
        "## Creating an empty DataFrame\n",
        "\n",
        "First, we will create an empty DataFrame. It is important to remember to load the Pandas library and assign the alias to it."
      ]
    },
    {
      "cell_type": "code",
      "execution_count": null,
      "id": "6828001f",
      "metadata": {
        "id": "6828001f"
      },
      "outputs": [],
      "source": [
        "# Import the Pandas library and assign it the alias pd\n",
        "import pandas as pd\n",
        "\n",
        "# Create an empty DataFrame\n",
        "df = pd.DataFrame()\n",
        "\n",
        "# Print dataFrame header\n",
        "df.head()"
      ]
    },
    {
      "cell_type": "markdown",
      "id": "e3717ed7",
      "metadata": {
        "id": "e3717ed7"
      },
      "source": [
        "## Creating a DataFrame from a dictionary\n",
        "\n",
        "We can also create a DataFrame from the Python *dictionary* data type."
      ]
    },
    {
      "cell_type": "code",
      "execution_count": null,
      "id": "d41b3856",
      "metadata": {
        "id": "d41b3856"
      },
      "outputs": [],
      "source": [
        "# Create a dictionary of lists, he keys will be the names of the columns and the lists will form the rows.\n",
        "data =  {'Name': ['Juana', 'Luis', 'Marcela', 'Ramiro'], 'Age': [23, 45, 46, 52]}\n",
        "\n",
        "# Create the pandas DataFrame\n",
        "df = pd.DataFrame(data)\n",
        "\n",
        "# Print dataFrame header\n",
        "df.head()"
      ]
    },
    {
      "cell_type": "markdown",
      "id": "7064d734",
      "metadata": {
        "id": "7064d734"
      },
      "source": [
        "We can also generate a DataFrame from a list of dictionaries, where each dictionary will be an observation."
      ]
    },
    {
      "cell_type": "code",
      "execution_count": null,
      "id": "241fac0e",
      "metadata": {
        "id": "241fac0e"
      },
      "outputs": [],
      "source": [
        "# Create the list of dictionaries\n",
        "data = [{'Name': 'Juana', 'Age': 23}, {'Name': 'Luis', 'Age': 45},\n",
        "        {'Name': 'Marcela', 'Age': 46}, {'Name': 'Ramiro', 'Age': 52}]\n",
        "\n",
        "# Create the pandas DataFrame\n",
        "df = pd.DataFrame(data)\n",
        "\n",
        "# Print dataFrame header\n",
        "df.head()"
      ]
    },
    {
      "cell_type": "markdown",
      "id": "fa15ff64",
      "metadata": {
        "id": "fa15ff64"
      },
      "source": [
        "## Pandas series\n",
        "\n",
        "**Pandas Series** is a one-dimensional sequential data structure capable of handling any data type. Series is one of the columns of a DataFrame. We can create a Series using a Python dictionary, a NumPy numeric array or a scalar value. Like DataFrames, Series have several ways to be created. We will explore the different alternatives below."
      ]
    },
    {
      "cell_type": "markdown",
      "id": "b26cf819",
      "metadata": {
        "id": "b26cf819"
      },
      "source": [
        "### Using a Python dictionary"
      ]
    },
    {
      "cell_type": "code",
      "execution_count": null,
      "id": "71a2a02b",
      "metadata": {
        "id": "71a2a02b",
        "colab": {
          "base_uri": "https://localhost:8080/"
        },
        "outputId": "350acc51-6116-45c9-9c18-668a52cc1c95"
      },
      "outputs": [
        {
          "output_type": "execute_result",
          "data": {
            "text/plain": [
              "0     Apple\n",
              "1    Banana\n",
              "2     Lemon\n",
              "dtype: object"
            ]
          },
          "metadata": {},
          "execution_count": 19
        }
      ],
      "source": [
        "# Creating Pandas Series using Dictionary\n",
        "dict1 = {0 : 'Apple', 1 : 'Banana', 2 : 'Lemon'}\n",
        "\n",
        "# Create Pandas Series\n",
        "series = pd.Series(dict1)\n",
        "\n",
        "# Show series\n",
        "series"
      ]
    },
    {
      "cell_type": "markdown",
      "id": "406a31d4",
      "metadata": {
        "id": "406a31d4"
      },
      "source": [
        "### Using a NumPy array"
      ]
    },
    {
      "cell_type": "markdown",
      "id": "60b4c77e",
      "metadata": {
        "id": "60b4c77e"
      },
      "source": [
        "<div class=\"alert alert-warning\"> Remember to import the needed libraries, as <strong><code>numpy</code></strong> in this case. We have not loaded the <strong><code>pandas</code></strong> library because we have already run it before, but if it is done on a new notebook, we must also load it. </div>"
      ]
    },
    {
      "cell_type": "code",
      "execution_count": null,
      "id": "082e6c0e",
      "metadata": {
        "id": "082e6c0e",
        "colab": {
          "base_uri": "https://localhost:8080/"
        },
        "outputId": "50adc69b-a4ef-4270-985d-0076ebc924d2"
      },
      "outputs": [
        {
          "output_type": "execute_result",
          "data": {
            "text/plain": [
              "0    42\n",
              "1    35\n",
              "2    86\n",
              "3   -25\n",
              "4    98\n",
              "dtype: int64"
            ]
          },
          "metadata": {},
          "execution_count": 20
        }
      ],
      "source": [
        "# Remember to import the needed libraries\n",
        "import numpy as np\n",
        "\n",
        "# Create NumPy array\n",
        "temporal = np.array([42, 35, 86, -25, 98])\n",
        "\n",
        "# Create Pandas Series\n",
        "series = pd.Series(temporal)\n",
        "\n",
        "# Show series\n",
        "series"
      ]
    },
    {
      "cell_type": "markdown",
      "id": "352814cf",
      "metadata": {
        "id": "352814cf"
      },
      "source": [
        "### Using a scalar value\n"
      ]
    },
    {
      "cell_type": "code",
      "execution_count": null,
      "id": "9135bdd2",
      "metadata": {
        "id": "9135bdd2"
      },
      "outputs": [],
      "source": [
        "# Create Pandas Series\n",
        "series = pd.Series(10, index = [0, 1, 2, 3, 4, 5])\n",
        "\n",
        "# Show series\n",
        "series\n"
      ]
    },
    {
      "cell_type": "markdown",
      "id": "13400f8d",
      "metadata": {
        "id": "13400f8d"
      },
      "source": [
        "### Selecting a column from a datafile\n",
        "\n",
        "We can create a series from a column of a datafile. For this case, we will load a database with `csv` extension that we have previously downloaded to our computer."
      ]
    },
    {
      "cell_type": "markdown",
      "id": "4ae5e314",
      "metadata": {
        "id": "4ae5e314"
      },
      "source": [
        "<div class=\"alert alert-info\"><strong>Important:</strong> in case the file containing the database is not located in the same folder of the notebook in which you are working, in the space where you put the name, you must specify the complete path, including the subfolders where it is located.</div>"
      ]
    },
    {
      "cell_type": "code",
      "execution_count": 1,
      "id": "1a30c9cc",
      "metadata": {
        "id": "1a30c9cc",
        "colab": {
          "base_uri": "https://localhost:8080/",
          "height": 356
        },
        "outputId": "b20b6d3c-1f9b-474c-8c09-ee60713eb91e"
      },
      "outputs": [
        {
          "output_type": "error",
          "ename": "FileNotFoundError",
          "evalue": "[Errno 2] No such file or directory: 'WHO_first9cols.csv'",
          "traceback": [
            "\u001b[0;31m---------------------------------------------------------------------------\u001b[0m",
            "\u001b[0;31mFileNotFoundError\u001b[0m                         Traceback (most recent call last)",
            "\u001b[0;32m<ipython-input-1-13b5e86e6288>\u001b[0m in \u001b[0;36m<cell line: 5>\u001b[0;34m()\u001b[0m\n\u001b[1;32m      3\u001b[0m \u001b[0;34m\u001b[0m\u001b[0m\n\u001b[1;32m      4\u001b[0m \u001b[0;31m# Load data using read_csv()\u001b[0m\u001b[0;34m\u001b[0m\u001b[0;34m\u001b[0m\u001b[0m\n\u001b[0;32m----> 5\u001b[0;31m \u001b[0mdf\u001b[0m \u001b[0;34m=\u001b[0m \u001b[0mpd\u001b[0m\u001b[0;34m.\u001b[0m\u001b[0mread_csv\u001b[0m\u001b[0;34m(\u001b[0m\u001b[0;34m\"WHO_first9cols.csv\"\u001b[0m\u001b[0;34m)\u001b[0m\u001b[0;34m\u001b[0m\u001b[0;34m\u001b[0m\u001b[0m\n\u001b[0m\u001b[1;32m      6\u001b[0m \u001b[0;34m\u001b[0m\u001b[0m\n\u001b[1;32m      7\u001b[0m \u001b[0;31m# Show initial 5 records\u001b[0m\u001b[0;34m\u001b[0m\u001b[0;34m\u001b[0m\u001b[0m\n",
            "\u001b[0;32m/usr/local/lib/python3.10/dist-packages/pandas/util/_decorators.py\u001b[0m in \u001b[0;36mwrapper\u001b[0;34m(*args, **kwargs)\u001b[0m\n\u001b[1;32m    209\u001b[0m                 \u001b[0;32melse\u001b[0m\u001b[0;34m:\u001b[0m\u001b[0;34m\u001b[0m\u001b[0;34m\u001b[0m\u001b[0m\n\u001b[1;32m    210\u001b[0m                     \u001b[0mkwargs\u001b[0m\u001b[0;34m[\u001b[0m\u001b[0mnew_arg_name\u001b[0m\u001b[0;34m]\u001b[0m \u001b[0;34m=\u001b[0m \u001b[0mnew_arg_value\u001b[0m\u001b[0;34m\u001b[0m\u001b[0;34m\u001b[0m\u001b[0m\n\u001b[0;32m--> 211\u001b[0;31m             \u001b[0;32mreturn\u001b[0m \u001b[0mfunc\u001b[0m\u001b[0;34m(\u001b[0m\u001b[0;34m*\u001b[0m\u001b[0margs\u001b[0m\u001b[0;34m,\u001b[0m \u001b[0;34m**\u001b[0m\u001b[0mkwargs\u001b[0m\u001b[0;34m)\u001b[0m\u001b[0;34m\u001b[0m\u001b[0;34m\u001b[0m\u001b[0m\n\u001b[0m\u001b[1;32m    212\u001b[0m \u001b[0;34m\u001b[0m\u001b[0m\n\u001b[1;32m    213\u001b[0m         \u001b[0;32mreturn\u001b[0m \u001b[0mcast\u001b[0m\u001b[0;34m(\u001b[0m\u001b[0mF\u001b[0m\u001b[0;34m,\u001b[0m \u001b[0mwrapper\u001b[0m\u001b[0;34m)\u001b[0m\u001b[0;34m\u001b[0m\u001b[0;34m\u001b[0m\u001b[0m\n",
            "\u001b[0;32m/usr/local/lib/python3.10/dist-packages/pandas/util/_decorators.py\u001b[0m in \u001b[0;36mwrapper\u001b[0;34m(*args, **kwargs)\u001b[0m\n\u001b[1;32m    329\u001b[0m                     \u001b[0mstacklevel\u001b[0m\u001b[0;34m=\u001b[0m\u001b[0mfind_stack_level\u001b[0m\u001b[0;34m(\u001b[0m\u001b[0;34m)\u001b[0m\u001b[0;34m,\u001b[0m\u001b[0;34m\u001b[0m\u001b[0;34m\u001b[0m\u001b[0m\n\u001b[1;32m    330\u001b[0m                 )\n\u001b[0;32m--> 331\u001b[0;31m             \u001b[0;32mreturn\u001b[0m \u001b[0mfunc\u001b[0m\u001b[0;34m(\u001b[0m\u001b[0;34m*\u001b[0m\u001b[0margs\u001b[0m\u001b[0;34m,\u001b[0m \u001b[0;34m**\u001b[0m\u001b[0mkwargs\u001b[0m\u001b[0;34m)\u001b[0m\u001b[0;34m\u001b[0m\u001b[0;34m\u001b[0m\u001b[0m\n\u001b[0m\u001b[1;32m    332\u001b[0m \u001b[0;34m\u001b[0m\u001b[0m\n\u001b[1;32m    333\u001b[0m         \u001b[0;31m# error: \"Callable[[VarArg(Any), KwArg(Any)], Any]\" has no\u001b[0m\u001b[0;34m\u001b[0m\u001b[0;34m\u001b[0m\u001b[0m\n",
            "\u001b[0;32m/usr/local/lib/python3.10/dist-packages/pandas/io/parsers/readers.py\u001b[0m in \u001b[0;36mread_csv\u001b[0;34m(filepath_or_buffer, sep, delimiter, header, names, index_col, usecols, squeeze, prefix, mangle_dupe_cols, dtype, engine, converters, true_values, false_values, skipinitialspace, skiprows, skipfooter, nrows, na_values, keep_default_na, na_filter, verbose, skip_blank_lines, parse_dates, infer_datetime_format, keep_date_col, date_parser, dayfirst, cache_dates, iterator, chunksize, compression, thousands, decimal, lineterminator, quotechar, quoting, doublequote, escapechar, comment, encoding, encoding_errors, dialect, error_bad_lines, warn_bad_lines, on_bad_lines, delim_whitespace, low_memory, memory_map, float_precision, storage_options)\u001b[0m\n\u001b[1;32m    948\u001b[0m     \u001b[0mkwds\u001b[0m\u001b[0;34m.\u001b[0m\u001b[0mupdate\u001b[0m\u001b[0;34m(\u001b[0m\u001b[0mkwds_defaults\u001b[0m\u001b[0;34m)\u001b[0m\u001b[0;34m\u001b[0m\u001b[0;34m\u001b[0m\u001b[0m\n\u001b[1;32m    949\u001b[0m \u001b[0;34m\u001b[0m\u001b[0m\n\u001b[0;32m--> 950\u001b[0;31m     \u001b[0;32mreturn\u001b[0m \u001b[0m_read\u001b[0m\u001b[0;34m(\u001b[0m\u001b[0mfilepath_or_buffer\u001b[0m\u001b[0;34m,\u001b[0m \u001b[0mkwds\u001b[0m\u001b[0;34m)\u001b[0m\u001b[0;34m\u001b[0m\u001b[0;34m\u001b[0m\u001b[0m\n\u001b[0m\u001b[1;32m    951\u001b[0m \u001b[0;34m\u001b[0m\u001b[0m\n\u001b[1;32m    952\u001b[0m \u001b[0;34m\u001b[0m\u001b[0m\n",
            "\u001b[0;32m/usr/local/lib/python3.10/dist-packages/pandas/io/parsers/readers.py\u001b[0m in \u001b[0;36m_read\u001b[0;34m(filepath_or_buffer, kwds)\u001b[0m\n\u001b[1;32m    603\u001b[0m \u001b[0;34m\u001b[0m\u001b[0m\n\u001b[1;32m    604\u001b[0m     \u001b[0;31m# Create the parser.\u001b[0m\u001b[0;34m\u001b[0m\u001b[0;34m\u001b[0m\u001b[0m\n\u001b[0;32m--> 605\u001b[0;31m     \u001b[0mparser\u001b[0m \u001b[0;34m=\u001b[0m \u001b[0mTextFileReader\u001b[0m\u001b[0;34m(\u001b[0m\u001b[0mfilepath_or_buffer\u001b[0m\u001b[0;34m,\u001b[0m \u001b[0;34m**\u001b[0m\u001b[0mkwds\u001b[0m\u001b[0;34m)\u001b[0m\u001b[0;34m\u001b[0m\u001b[0;34m\u001b[0m\u001b[0m\n\u001b[0m\u001b[1;32m    606\u001b[0m \u001b[0;34m\u001b[0m\u001b[0m\n\u001b[1;32m    607\u001b[0m     \u001b[0;32mif\u001b[0m \u001b[0mchunksize\u001b[0m \u001b[0;32mor\u001b[0m \u001b[0miterator\u001b[0m\u001b[0;34m:\u001b[0m\u001b[0;34m\u001b[0m\u001b[0;34m\u001b[0m\u001b[0m\n",
            "\u001b[0;32m/usr/local/lib/python3.10/dist-packages/pandas/io/parsers/readers.py\u001b[0m in \u001b[0;36m__init__\u001b[0;34m(self, f, engine, **kwds)\u001b[0m\n\u001b[1;32m   1440\u001b[0m \u001b[0;34m\u001b[0m\u001b[0m\n\u001b[1;32m   1441\u001b[0m         \u001b[0mself\u001b[0m\u001b[0;34m.\u001b[0m\u001b[0mhandles\u001b[0m\u001b[0;34m:\u001b[0m \u001b[0mIOHandles\u001b[0m \u001b[0;34m|\u001b[0m \u001b[0;32mNone\u001b[0m \u001b[0;34m=\u001b[0m \u001b[0;32mNone\u001b[0m\u001b[0;34m\u001b[0m\u001b[0;34m\u001b[0m\u001b[0m\n\u001b[0;32m-> 1442\u001b[0;31m         \u001b[0mself\u001b[0m\u001b[0;34m.\u001b[0m\u001b[0m_engine\u001b[0m \u001b[0;34m=\u001b[0m \u001b[0mself\u001b[0m\u001b[0;34m.\u001b[0m\u001b[0m_make_engine\u001b[0m\u001b[0;34m(\u001b[0m\u001b[0mf\u001b[0m\u001b[0;34m,\u001b[0m \u001b[0mself\u001b[0m\u001b[0;34m.\u001b[0m\u001b[0mengine\u001b[0m\u001b[0;34m)\u001b[0m\u001b[0;34m\u001b[0m\u001b[0;34m\u001b[0m\u001b[0m\n\u001b[0m\u001b[1;32m   1443\u001b[0m \u001b[0;34m\u001b[0m\u001b[0m\n\u001b[1;32m   1444\u001b[0m     \u001b[0;32mdef\u001b[0m \u001b[0mclose\u001b[0m\u001b[0;34m(\u001b[0m\u001b[0mself\u001b[0m\u001b[0;34m)\u001b[0m \u001b[0;34m->\u001b[0m \u001b[0;32mNone\u001b[0m\u001b[0;34m:\u001b[0m\u001b[0;34m\u001b[0m\u001b[0;34m\u001b[0m\u001b[0m\n",
            "\u001b[0;32m/usr/local/lib/python3.10/dist-packages/pandas/io/parsers/readers.py\u001b[0m in \u001b[0;36m_make_engine\u001b[0;34m(self, f, engine)\u001b[0m\n\u001b[1;32m   1733\u001b[0m                 \u001b[0;32mif\u001b[0m \u001b[0;34m\"b\"\u001b[0m \u001b[0;32mnot\u001b[0m \u001b[0;32min\u001b[0m \u001b[0mmode\u001b[0m\u001b[0;34m:\u001b[0m\u001b[0;34m\u001b[0m\u001b[0;34m\u001b[0m\u001b[0m\n\u001b[1;32m   1734\u001b[0m                     \u001b[0mmode\u001b[0m \u001b[0;34m+=\u001b[0m \u001b[0;34m\"b\"\u001b[0m\u001b[0;34m\u001b[0m\u001b[0;34m\u001b[0m\u001b[0m\n\u001b[0;32m-> 1735\u001b[0;31m             self.handles = get_handle(\n\u001b[0m\u001b[1;32m   1736\u001b[0m                 \u001b[0mf\u001b[0m\u001b[0;34m,\u001b[0m\u001b[0;34m\u001b[0m\u001b[0;34m\u001b[0m\u001b[0m\n\u001b[1;32m   1737\u001b[0m                 \u001b[0mmode\u001b[0m\u001b[0;34m,\u001b[0m\u001b[0;34m\u001b[0m\u001b[0;34m\u001b[0m\u001b[0m\n",
            "\u001b[0;32m/usr/local/lib/python3.10/dist-packages/pandas/io/common.py\u001b[0m in \u001b[0;36mget_handle\u001b[0;34m(path_or_buf, mode, encoding, compression, memory_map, is_text, errors, storage_options)\u001b[0m\n\u001b[1;32m    854\u001b[0m         \u001b[0;32mif\u001b[0m \u001b[0mioargs\u001b[0m\u001b[0;34m.\u001b[0m\u001b[0mencoding\u001b[0m \u001b[0;32mand\u001b[0m \u001b[0;34m\"b\"\u001b[0m \u001b[0;32mnot\u001b[0m \u001b[0;32min\u001b[0m \u001b[0mioargs\u001b[0m\u001b[0;34m.\u001b[0m\u001b[0mmode\u001b[0m\u001b[0;34m:\u001b[0m\u001b[0;34m\u001b[0m\u001b[0;34m\u001b[0m\u001b[0m\n\u001b[1;32m    855\u001b[0m             \u001b[0;31m# Encoding\u001b[0m\u001b[0;34m\u001b[0m\u001b[0;34m\u001b[0m\u001b[0m\n\u001b[0;32m--> 856\u001b[0;31m             handle = open(\n\u001b[0m\u001b[1;32m    857\u001b[0m                 \u001b[0mhandle\u001b[0m\u001b[0;34m,\u001b[0m\u001b[0;34m\u001b[0m\u001b[0;34m\u001b[0m\u001b[0m\n\u001b[1;32m    858\u001b[0m                 \u001b[0mioargs\u001b[0m\u001b[0;34m.\u001b[0m\u001b[0mmode\u001b[0m\u001b[0;34m,\u001b[0m\u001b[0;34m\u001b[0m\u001b[0;34m\u001b[0m\u001b[0m\n",
            "\u001b[0;31mFileNotFoundError\u001b[0m: [Errno 2] No such file or directory: 'WHO_first9cols.csv'"
          ]
        }
      ],
      "source": [
        "# Import pandas\n",
        "import pandas as pd\n",
        "\n",
        "# Load data using read_csv()\n",
        "df = pd.read_csv(\"WHO_first9cols.csv\")\n",
        "\n",
        "# Show initial 5 records\n",
        "df.head()"
      ]
    },
    {
      "cell_type": "code",
      "execution_count": null,
      "id": "35ff0eb0",
      "metadata": {
        "id": "35ff0eb0"
      },
      "outputs": [],
      "source": [
        "# Select a series\n",
        "data = df['Country']\n",
        "\n",
        "# Check data type\n",
        "type(data)"
      ]
    },
    {
      "cell_type": "markdown",
      "id": "47797d77",
      "metadata": {
        "id": "47797d77"
      },
      "source": [
        "DataFrames and Series share some attributes, which are listed as follows"
      ]
    },
    {
      "cell_type": "code",
      "execution_count": null,
      "id": "8b253b06",
      "metadata": {
        "id": "8b253b06",
        "colab": {
          "base_uri": "https://localhost:8080/"
        },
        "outputId": "22c65516-5f66-427b-ad3a-f01f447f0bc7"
      },
      "outputs": [
        {
          "output_type": "stream",
          "name": "stdout",
          "text": [
            "Shape: (52, 8)\n"
          ]
        }
      ],
      "source": [
        "# Show the shape of DataFrame\n",
        "print(\"Shape:\", df.shape)"
      ]
    },
    {
      "cell_type": "code",
      "execution_count": null,
      "id": "3997bde5",
      "metadata": {
        "id": "3997bde5",
        "colab": {
          "base_uri": "https://localhost:8080/"
        },
        "outputId": "d6c64ec3-cc3f-4c23-9fc3-1356bc6bd126"
      },
      "outputs": [
        {
          "output_type": "stream",
          "name": "stdout",
          "text": [
            "List of Columns: Index(['Categoría', 'Nombre', 'Dirección', 'Teléfono', 'Servicios', 'Latitud',\n",
            "       'Longitud', 'Turismo Santuario'],\n",
            "      dtype='object')\n"
          ]
        }
      ],
      "source": [
        "# Check the column list of DataFrame\n",
        "print(\"List of Columns:\", df.columns)"
      ]
    },
    {
      "cell_type": "code",
      "execution_count": null,
      "id": "7f58bcf6",
      "metadata": {
        "id": "7f58bcf6",
        "colab": {
          "base_uri": "https://localhost:8080/"
        },
        "outputId": "8b1fd85a-2356-49d1-a982-aceeaaff0178"
      },
      "outputs": [
        {
          "output_type": "stream",
          "name": "stdout",
          "text": [
            "Data types: Categoría             object\n",
            "Nombre                object\n",
            "Dirección             object\n",
            "Teléfono              object\n",
            "Servicios             object\n",
            "Latitud              float64\n",
            "Longitud             float64\n",
            "Turismo Santuario     object\n",
            "dtype: object\n"
          ]
        }
      ],
      "source": [
        "# Show the datatypes of columns\n",
        "print(\"Data types:\", df.dtypes)"
      ]
    },
    {
      "cell_type": "markdown",
      "id": "a4f9f046",
      "metadata": {
        "id": "a4f9f046"
      },
      "source": [
        "### Filtering columns\n",
        "\n",
        "It is possible to select only some columns with Pandas, let's see it next."
      ]
    },
    {
      "cell_type": "code",
      "execution_count": null,
      "id": "8a63f960",
      "metadata": {
        "id": "8a63f960"
      },
      "outputs": [],
      "source": [
        "# Select columns\n",
        "df_filtered = df[['Continent','Country']]\n",
        "\n",
        "# Show initial 5 records\n",
        "df_filtered.head()"
      ]
    },
    {
      "cell_type": "markdown",
      "id": "52d1bb1d",
      "metadata": {
        "id": "52d1bb1d"
      },
      "source": [
        "### Filtering rows\n",
        "\n",
        "Similarly, we can also filter by rows, but it works a little differently by filtering the observations, not the variables."
      ]
    },
    {
      "cell_type": "code",
      "execution_count": null,
      "id": "13593df5",
      "metadata": {
        "id": "13593df5"
      },
      "outputs": [],
      "source": [
        "# Select rows using index\n",
        "df[20:30]"
      ]
    },
    {
      "cell_type": "markdown",
      "id": "593270b9",
      "metadata": {
        "id": "593270b9"
      },
      "source": [
        "### Boolean filtering\n",
        "\n",
        "We can query data using Boolean conditions. Let's filter the data greater than the arithmetic mean:"
      ]
    },
    {
      "cell_type": "code",
      "execution_count": null,
      "id": "af330f73",
      "metadata": {
        "id": "af330f73"
      },
      "outputs": [],
      "source": [
        "# Boolean Filter\n",
        "df[df['Continent'] == 7]"
      ]
    },
    {
      "cell_type": "markdown",
      "id": "5fac4fd3",
      "metadata": {
        "id": "5fac4fd3"
      },
      "source": [
        "### Describing DataFrames\n",
        "\n",
        "DataFrames also have several statistical methods that can be used to describe the available data sets. Let's review some of them."
      ]
    },
    {
      "cell_type": "markdown",
      "id": "568c7d5b",
      "metadata": {
        "id": "568c7d5b"
      },
      "source": [
        "- The `describe()` method will show most of the descriptive statistical measures for all columns:"
      ]
    },
    {
      "cell_type": "code",
      "execution_count": null,
      "id": "a392b188",
      "metadata": {
        "id": "a392b188"
      },
      "outputs": [],
      "source": [
        "# Load data using read_csv()\n",
        "df = pd.read_csv(\"WHO_first9cols.csv\")\n",
        "\n",
        "# Describes de dataset\n",
        "df.describe()"
      ]
    },
    {
      "cell_type": "markdown",
      "id": "d9f718aa",
      "metadata": {
        "id": "d9f718aa"
      },
      "source": [
        "- The `count()` method counts the number of observations in each column. It helps us to check the missing values in the dataset. Except for the initial three columns, all the columns have missing values."
      ]
    },
    {
      "cell_type": "code",
      "execution_count": null,
      "id": "5ca2184c",
      "metadata": {
        "id": "5ca2184c",
        "colab": {
          "base_uri": "https://localhost:8080/"
        },
        "outputId": "2cd0e008-8dc5-495a-e8b5-43700d7c252b"
      },
      "outputs": [
        {
          "output_type": "execute_result",
          "data": {
            "text/plain": [
              "Categoría            52\n",
              "Nombre               52\n",
              "Dirección            52\n",
              "Teléfono             52\n",
              "Servicios            52\n",
              "Latitud              52\n",
              "Longitud             52\n",
              "Turismo Santuario    52\n",
              "dtype: int64"
            ]
          },
          "metadata": {},
          "execution_count": 16
        }
      ],
      "source": [
        "# Count number of observation\n",
        "df.count()"
      ]
    },
    {
      "cell_type": "markdown",
      "id": "fbc77fef",
      "metadata": {
        "id": "fbc77fef"
      },
      "source": [
        "- Similarly, you can compute the `median`, `standard deviation`, `mean absolute deviation`, `variance`, `skewness`, and `kurtosis`."
      ]
    },
    {
      "cell_type": "code",
      "execution_count": null,
      "id": "e4050947",
      "metadata": {
        "id": "e4050947"
      },
      "outputs": [],
      "source": [
        "# Compute median of all the columns\n",
        "df.median()"
      ]
    },
    {
      "cell_type": "code",
      "execution_count": null,
      "id": "a3f2d760",
      "metadata": {
        "id": "a3f2d760"
      },
      "outputs": [],
      "source": [
        "# Compute the standard deviation of all the columns\n",
        "df.std()"
      ]
    },
    {
      "cell_type": "markdown",
      "id": "b0ba73ea",
      "metadata": {
        "id": "b0ba73ea"
      },
      "source": [
        "### Grouping Dataframe\n",
        "\n",
        "Grouping operations are based on the split-apply-combine strategy. It first divides data into groups and applies the aggregate operation, such as `mean`, `min`, `max`, `count`, and `sum`, on each group and combines results from each group."
      ]
    },
    {
      "cell_type": "code",
      "execution_count": null,
      "id": "b50a8f8c",
      "metadata": {
        "id": "b50a8f8c",
        "colab": {
          "base_uri": "https://localhost:8080/",
          "height": 321
        },
        "outputId": "17f9833a-2dae-4b9a-a736-fd598889ba42"
      },
      "outputs": [
        {
          "output_type": "error",
          "ename": "KeyError",
          "evalue": "'Continent'",
          "traceback": [
            "\u001b[0;31m---------------------------------------------------------------------------\u001b[0m",
            "\u001b[0;31mKeyError\u001b[0m                                  Traceback (most recent call last)",
            "\u001b[0;32m<ipython-input-17-e6ff3acdfe6a>\u001b[0m in \u001b[0;36m<cell line: 2>\u001b[0;34m()\u001b[0m\n\u001b[1;32m      1\u001b[0m \u001b[0;31m# Group on the basis of Country column and calculates the mean\u001b[0m\u001b[0;34m\u001b[0m\u001b[0;34m\u001b[0m\u001b[0m\n\u001b[0;32m----> 2\u001b[0;31m \u001b[0mdf\u001b[0m\u001b[0;34m.\u001b[0m\u001b[0mgroupby\u001b[0m\u001b[0;34m(\u001b[0m\u001b[0;34m'Continent'\u001b[0m\u001b[0;34m)\u001b[0m\u001b[0;34m.\u001b[0m\u001b[0mmean\u001b[0m\u001b[0;34m(\u001b[0m\u001b[0;34m)\u001b[0m\u001b[0;34m\u001b[0m\u001b[0;34m\u001b[0m\u001b[0m\n\u001b[0m",
            "\u001b[0;32m/usr/local/lib/python3.10/dist-packages/pandas/core/frame.py\u001b[0m in \u001b[0;36mgroupby\u001b[0;34m(self, by, axis, level, as_index, sort, group_keys, squeeze, observed, dropna)\u001b[0m\n\u001b[1;32m   8400\u001b[0m         \u001b[0maxis\u001b[0m \u001b[0;34m=\u001b[0m \u001b[0mself\u001b[0m\u001b[0;34m.\u001b[0m\u001b[0m_get_axis_number\u001b[0m\u001b[0;34m(\u001b[0m\u001b[0maxis\u001b[0m\u001b[0;34m)\u001b[0m\u001b[0;34m\u001b[0m\u001b[0;34m\u001b[0m\u001b[0m\n\u001b[1;32m   8401\u001b[0m \u001b[0;34m\u001b[0m\u001b[0m\n\u001b[0;32m-> 8402\u001b[0;31m         return DataFrameGroupBy(\n\u001b[0m\u001b[1;32m   8403\u001b[0m             \u001b[0mobj\u001b[0m\u001b[0;34m=\u001b[0m\u001b[0mself\u001b[0m\u001b[0;34m,\u001b[0m\u001b[0;34m\u001b[0m\u001b[0;34m\u001b[0m\u001b[0m\n\u001b[1;32m   8404\u001b[0m             \u001b[0mkeys\u001b[0m\u001b[0;34m=\u001b[0m\u001b[0mby\u001b[0m\u001b[0;34m,\u001b[0m\u001b[0;34m\u001b[0m\u001b[0;34m\u001b[0m\u001b[0m\n",
            "\u001b[0;32m/usr/local/lib/python3.10/dist-packages/pandas/core/groupby/groupby.py\u001b[0m in \u001b[0;36m__init__\u001b[0;34m(self, obj, keys, axis, level, grouper, exclusions, selection, as_index, sort, group_keys, squeeze, observed, mutated, dropna)\u001b[0m\n\u001b[1;32m    963\u001b[0m             \u001b[0;32mfrom\u001b[0m \u001b[0mpandas\u001b[0m\u001b[0;34m.\u001b[0m\u001b[0mcore\u001b[0m\u001b[0;34m.\u001b[0m\u001b[0mgroupby\u001b[0m\u001b[0;34m.\u001b[0m\u001b[0mgrouper\u001b[0m \u001b[0;32mimport\u001b[0m \u001b[0mget_grouper\u001b[0m\u001b[0;34m\u001b[0m\u001b[0;34m\u001b[0m\u001b[0m\n\u001b[1;32m    964\u001b[0m \u001b[0;34m\u001b[0m\u001b[0m\n\u001b[0;32m--> 965\u001b[0;31m             grouper, exclusions, obj = get_grouper(\n\u001b[0m\u001b[1;32m    966\u001b[0m                 \u001b[0mobj\u001b[0m\u001b[0;34m,\u001b[0m\u001b[0;34m\u001b[0m\u001b[0;34m\u001b[0m\u001b[0m\n\u001b[1;32m    967\u001b[0m                 \u001b[0mkeys\u001b[0m\u001b[0;34m,\u001b[0m\u001b[0;34m\u001b[0m\u001b[0;34m\u001b[0m\u001b[0m\n",
            "\u001b[0;32m/usr/local/lib/python3.10/dist-packages/pandas/core/groupby/grouper.py\u001b[0m in \u001b[0;36mget_grouper\u001b[0;34m(obj, key, axis, level, sort, observed, mutated, validate, dropna)\u001b[0m\n\u001b[1;32m    886\u001b[0m                 \u001b[0min_axis\u001b[0m\u001b[0;34m,\u001b[0m \u001b[0mlevel\u001b[0m\u001b[0;34m,\u001b[0m \u001b[0mgpr\u001b[0m \u001b[0;34m=\u001b[0m \u001b[0;32mFalse\u001b[0m\u001b[0;34m,\u001b[0m \u001b[0mgpr\u001b[0m\u001b[0;34m,\u001b[0m \u001b[0;32mNone\u001b[0m\u001b[0;34m\u001b[0m\u001b[0;34m\u001b[0m\u001b[0m\n\u001b[1;32m    887\u001b[0m             \u001b[0;32melse\u001b[0m\u001b[0;34m:\u001b[0m\u001b[0;34m\u001b[0m\u001b[0;34m\u001b[0m\u001b[0m\n\u001b[0;32m--> 888\u001b[0;31m                 \u001b[0;32mraise\u001b[0m \u001b[0mKeyError\u001b[0m\u001b[0;34m(\u001b[0m\u001b[0mgpr\u001b[0m\u001b[0;34m)\u001b[0m\u001b[0;34m\u001b[0m\u001b[0;34m\u001b[0m\u001b[0m\n\u001b[0m\u001b[1;32m    889\u001b[0m         \u001b[0;32melif\u001b[0m \u001b[0misinstance\u001b[0m\u001b[0;34m(\u001b[0m\u001b[0mgpr\u001b[0m\u001b[0;34m,\u001b[0m \u001b[0mGrouper\u001b[0m\u001b[0;34m)\u001b[0m \u001b[0;32mand\u001b[0m \u001b[0mgpr\u001b[0m\u001b[0;34m.\u001b[0m\u001b[0mkey\u001b[0m \u001b[0;32mis\u001b[0m \u001b[0;32mnot\u001b[0m \u001b[0;32mNone\u001b[0m\u001b[0;34m:\u001b[0m\u001b[0;34m\u001b[0m\u001b[0;34m\u001b[0m\u001b[0m\n\u001b[1;32m    890\u001b[0m             \u001b[0;31m# Add key to exclusions\u001b[0m\u001b[0;34m\u001b[0m\u001b[0;34m\u001b[0m\u001b[0m\n",
            "\u001b[0;31mKeyError\u001b[0m: 'Continent'"
          ]
        }
      ],
      "source": [
        "# Group on the basis of Country column and calculates the mean\n",
        "df.groupby('Continent').mean()"
      ]
    },
    {
      "cell_type": "code",
      "execution_count": null,
      "id": "fe63fa75",
      "metadata": {
        "id": "fe63fa75"
      },
      "outputs": [],
      "source": [
        "# Group on the basis of continent and select adult literacy rate (%)\n",
        "\n",
        "df.groupby('Continent').mean()['Adult literacy rate (%)']"
      ]
    },
    {
      "cell_type": "markdown",
      "id": "ef982945",
      "metadata": {
        "id": "ef982945"
      },
      "source": [
        "# Activity 2"
      ]
    },
    {
      "cell_type": "markdown",
      "id": "b201aa44",
      "metadata": {
        "id": "b201aa44"
      },
      "source": [
        "## Exercise 1.\n",
        "\n",
        "Download a database from [Datos abiertos](https://www.datos.gov.co/). You can choose any database you prefer. The important thing is that it contains at least 20 observations (rows) and 5 characteristics (columns). Load it and save it in a variable called `data`."
      ]
    },
    {
      "cell_type": "code",
      "execution_count": null,
      "id": "04aa697d",
      "metadata": {
        "id": "04aa697d",
        "colab": {
          "base_uri": "https://localhost:8080/",
          "height": 397
        },
        "outputId": "139f13fd-aeed-4d4c-ff4d-e4dcd4232fd2"
      },
      "outputs": [
        {
          "output_type": "execute_result",
          "data": {
            "text/plain": [
              "      Categoría                       Nombre  \\\n",
              "0  Alojamientos              Hostal Don Rafa   \n",
              "1  Alojamientos                 Hotel Montes   \n",
              "2  Alojamientos        Hotel Santuario Plaza   \n",
              "3  Alojamientos  Finca Cafetera La Primavera   \n",
              "4  Alojamientos                  La Cabañita   \n",
              "\n",
              "                             Dirección                 Teléfono  \\\n",
              "0                       Calle 7 # 6-50  3234536440 - 3116228702   \n",
              "1                     Carrera 5 # 5-54               3146806584   \n",
              "2     Carrera 5 # 6-22 Plaza principal               3164501515   \n",
              "3           Km 4 vía Corinto/Peralonso               3155302557   \n",
              "4  Vereda La Bretaña, sector La Marina  3146943348 - 3505417858   \n",
              "\n",
              "                                           Servicios   Latitud   Longitud  \\\n",
              "0                                          Hospedaje  5.073652 -75.963068   \n",
              "1                                          Hospedaje  5.072750 -75.962139   \n",
              "2                                          Hospedaje  5.073168 -75.962059   \n",
              "3                Hospedaje, alimentación, recorridos  4.980643 -75.909991   \n",
              "4  Hospedaje, glamping, alimentación, piscina, se...  5.051729 -75.946942   \n",
              "\n",
              "                              Turismo Santuario  \n",
              "0  POINT (-75.96306835772577 5.073651645797149)  \n",
              "1  POINT (-75.96213946642965 5.072749849966402)  \n",
              "2   POINT (-75.9620593622442 5.073168016321599)  \n",
              "3  POINT (-75.90999100473529 4.980643138181126)  \n",
              "4   POINT (-75.9469422239791 5.051729365166298)  "
            ],
            "text/html": [
              "\n",
              "  <div id=\"df-b28ce49c-d7e6-404b-b056-72b6b9aa71ec\" class=\"colab-df-container\">\n",
              "    <div>\n",
              "<style scoped>\n",
              "    .dataframe tbody tr th:only-of-type {\n",
              "        vertical-align: middle;\n",
              "    }\n",
              "\n",
              "    .dataframe tbody tr th {\n",
              "        vertical-align: top;\n",
              "    }\n",
              "\n",
              "    .dataframe thead th {\n",
              "        text-align: right;\n",
              "    }\n",
              "</style>\n",
              "<table border=\"1\" class=\"dataframe\">\n",
              "  <thead>\n",
              "    <tr style=\"text-align: right;\">\n",
              "      <th></th>\n",
              "      <th>Categoría</th>\n",
              "      <th>Nombre</th>\n",
              "      <th>Dirección</th>\n",
              "      <th>Teléfono</th>\n",
              "      <th>Servicios</th>\n",
              "      <th>Latitud</th>\n",
              "      <th>Longitud</th>\n",
              "      <th>Turismo Santuario</th>\n",
              "    </tr>\n",
              "  </thead>\n",
              "  <tbody>\n",
              "    <tr>\n",
              "      <th>0</th>\n",
              "      <td>Alojamientos</td>\n",
              "      <td>Hostal Don Rafa</td>\n",
              "      <td>Calle 7 # 6-50</td>\n",
              "      <td>3234536440 - 3116228702</td>\n",
              "      <td>Hospedaje</td>\n",
              "      <td>5.073652</td>\n",
              "      <td>-75.963068</td>\n",
              "      <td>POINT (-75.96306835772577 5.073651645797149)</td>\n",
              "    </tr>\n",
              "    <tr>\n",
              "      <th>1</th>\n",
              "      <td>Alojamientos</td>\n",
              "      <td>Hotel Montes</td>\n",
              "      <td>Carrera 5 # 5-54</td>\n",
              "      <td>3146806584</td>\n",
              "      <td>Hospedaje</td>\n",
              "      <td>5.072750</td>\n",
              "      <td>-75.962139</td>\n",
              "      <td>POINT (-75.96213946642965 5.072749849966402)</td>\n",
              "    </tr>\n",
              "    <tr>\n",
              "      <th>2</th>\n",
              "      <td>Alojamientos</td>\n",
              "      <td>Hotel Santuario Plaza</td>\n",
              "      <td>Carrera 5 # 6-22 Plaza principal</td>\n",
              "      <td>3164501515</td>\n",
              "      <td>Hospedaje</td>\n",
              "      <td>5.073168</td>\n",
              "      <td>-75.962059</td>\n",
              "      <td>POINT (-75.9620593622442 5.073168016321599)</td>\n",
              "    </tr>\n",
              "    <tr>\n",
              "      <th>3</th>\n",
              "      <td>Alojamientos</td>\n",
              "      <td>Finca Cafetera La Primavera</td>\n",
              "      <td>Km 4 vía Corinto/Peralonso</td>\n",
              "      <td>3155302557</td>\n",
              "      <td>Hospedaje, alimentación, recorridos</td>\n",
              "      <td>4.980643</td>\n",
              "      <td>-75.909991</td>\n",
              "      <td>POINT (-75.90999100473529 4.980643138181126)</td>\n",
              "    </tr>\n",
              "    <tr>\n",
              "      <th>4</th>\n",
              "      <td>Alojamientos</td>\n",
              "      <td>La Cabañita</td>\n",
              "      <td>Vereda La Bretaña, sector La Marina</td>\n",
              "      <td>3146943348 - 3505417858</td>\n",
              "      <td>Hospedaje, glamping, alimentación, piscina, se...</td>\n",
              "      <td>5.051729</td>\n",
              "      <td>-75.946942</td>\n",
              "      <td>POINT (-75.9469422239791 5.051729365166298)</td>\n",
              "    </tr>\n",
              "  </tbody>\n",
              "</table>\n",
              "</div>\n",
              "    <div class=\"colab-df-buttons\">\n",
              "\n",
              "  <div class=\"colab-df-container\">\n",
              "    <button class=\"colab-df-convert\" onclick=\"convertToInteractive('df-b28ce49c-d7e6-404b-b056-72b6b9aa71ec')\"\n",
              "            title=\"Convert this dataframe to an interactive table.\"\n",
              "            style=\"display:none;\">\n",
              "\n",
              "  <svg xmlns=\"http://www.w3.org/2000/svg\" height=\"24px\" viewBox=\"0 -960 960 960\">\n",
              "    <path d=\"M120-120v-720h720v720H120Zm60-500h600v-160H180v160Zm220 220h160v-160H400v160Zm0 220h160v-160H400v160ZM180-400h160v-160H180v160Zm440 0h160v-160H620v160ZM180-180h160v-160H180v160Zm440 0h160v-160H620v160Z\"/>\n",
              "  </svg>\n",
              "    </button>\n",
              "\n",
              "  <style>\n",
              "    .colab-df-container {\n",
              "      display:flex;\n",
              "      gap: 12px;\n",
              "    }\n",
              "\n",
              "    .colab-df-convert {\n",
              "      background-color: #E8F0FE;\n",
              "      border: none;\n",
              "      border-radius: 50%;\n",
              "      cursor: pointer;\n",
              "      display: none;\n",
              "      fill: #1967D2;\n",
              "      height: 32px;\n",
              "      padding: 0 0 0 0;\n",
              "      width: 32px;\n",
              "    }\n",
              "\n",
              "    .colab-df-convert:hover {\n",
              "      background-color: #E2EBFA;\n",
              "      box-shadow: 0px 1px 2px rgba(60, 64, 67, 0.3), 0px 1px 3px 1px rgba(60, 64, 67, 0.15);\n",
              "      fill: #174EA6;\n",
              "    }\n",
              "\n",
              "    .colab-df-buttons div {\n",
              "      margin-bottom: 4px;\n",
              "    }\n",
              "\n",
              "    [theme=dark] .colab-df-convert {\n",
              "      background-color: #3B4455;\n",
              "      fill: #D2E3FC;\n",
              "    }\n",
              "\n",
              "    [theme=dark] .colab-df-convert:hover {\n",
              "      background-color: #434B5C;\n",
              "      box-shadow: 0px 1px 3px 1px rgba(0, 0, 0, 0.15);\n",
              "      filter: drop-shadow(0px 1px 2px rgba(0, 0, 0, 0.3));\n",
              "      fill: #FFFFFF;\n",
              "    }\n",
              "  </style>\n",
              "\n",
              "    <script>\n",
              "      const buttonEl =\n",
              "        document.querySelector('#df-b28ce49c-d7e6-404b-b056-72b6b9aa71ec button.colab-df-convert');\n",
              "      buttonEl.style.display =\n",
              "        google.colab.kernel.accessAllowed ? 'block' : 'none';\n",
              "\n",
              "      async function convertToInteractive(key) {\n",
              "        const element = document.querySelector('#df-b28ce49c-d7e6-404b-b056-72b6b9aa71ec');\n",
              "        const dataTable =\n",
              "          await google.colab.kernel.invokeFunction('convertToInteractive',\n",
              "                                                    [key], {});\n",
              "        if (!dataTable) return;\n",
              "\n",
              "        const docLinkHtml = 'Like what you see? Visit the ' +\n",
              "          '<a target=\"_blank\" href=https://colab.research.google.com/notebooks/data_table.ipynb>data table notebook</a>'\n",
              "          + ' to learn more about interactive tables.';\n",
              "        element.innerHTML = '';\n",
              "        dataTable['output_type'] = 'display_data';\n",
              "        await google.colab.output.renderOutput(dataTable, element);\n",
              "        const docLink = document.createElement('div');\n",
              "        docLink.innerHTML = docLinkHtml;\n",
              "        element.appendChild(docLink);\n",
              "      }\n",
              "    </script>\n",
              "  </div>\n",
              "\n",
              "\n",
              "<div id=\"df-49241f1a-0d09-4391-a615-0c2caa6b1b42\">\n",
              "  <button class=\"colab-df-quickchart\" onclick=\"quickchart('df-49241f1a-0d09-4391-a615-0c2caa6b1b42')\"\n",
              "            title=\"Suggest charts\"\n",
              "            style=\"display:none;\">\n",
              "\n",
              "<svg xmlns=\"http://www.w3.org/2000/svg\" height=\"24px\"viewBox=\"0 0 24 24\"\n",
              "     width=\"24px\">\n",
              "    <g>\n",
              "        <path d=\"M19 3H5c-1.1 0-2 .9-2 2v14c0 1.1.9 2 2 2h14c1.1 0 2-.9 2-2V5c0-1.1-.9-2-2-2zM9 17H7v-7h2v7zm4 0h-2V7h2v10zm4 0h-2v-4h2v4z\"/>\n",
              "    </g>\n",
              "</svg>\n",
              "  </button>\n",
              "\n",
              "<style>\n",
              "  .colab-df-quickchart {\n",
              "      --bg-color: #E8F0FE;\n",
              "      --fill-color: #1967D2;\n",
              "      --hover-bg-color: #E2EBFA;\n",
              "      --hover-fill-color: #174EA6;\n",
              "      --disabled-fill-color: #AAA;\n",
              "      --disabled-bg-color: #DDD;\n",
              "  }\n",
              "\n",
              "  [theme=dark] .colab-df-quickchart {\n",
              "      --bg-color: #3B4455;\n",
              "      --fill-color: #D2E3FC;\n",
              "      --hover-bg-color: #434B5C;\n",
              "      --hover-fill-color: #FFFFFF;\n",
              "      --disabled-bg-color: #3B4455;\n",
              "      --disabled-fill-color: #666;\n",
              "  }\n",
              "\n",
              "  .colab-df-quickchart {\n",
              "    background-color: var(--bg-color);\n",
              "    border: none;\n",
              "    border-radius: 50%;\n",
              "    cursor: pointer;\n",
              "    display: none;\n",
              "    fill: var(--fill-color);\n",
              "    height: 32px;\n",
              "    padding: 0;\n",
              "    width: 32px;\n",
              "  }\n",
              "\n",
              "  .colab-df-quickchart:hover {\n",
              "    background-color: var(--hover-bg-color);\n",
              "    box-shadow: 0 1px 2px rgba(60, 64, 67, 0.3), 0 1px 3px 1px rgba(60, 64, 67, 0.15);\n",
              "    fill: var(--button-hover-fill-color);\n",
              "  }\n",
              "\n",
              "  .colab-df-quickchart-complete:disabled,\n",
              "  .colab-df-quickchart-complete:disabled:hover {\n",
              "    background-color: var(--disabled-bg-color);\n",
              "    fill: var(--disabled-fill-color);\n",
              "    box-shadow: none;\n",
              "  }\n",
              "\n",
              "  .colab-df-spinner {\n",
              "    border: 2px solid var(--fill-color);\n",
              "    border-color: transparent;\n",
              "    border-bottom-color: var(--fill-color);\n",
              "    animation:\n",
              "      spin 1s steps(1) infinite;\n",
              "  }\n",
              "\n",
              "  @keyframes spin {\n",
              "    0% {\n",
              "      border-color: transparent;\n",
              "      border-bottom-color: var(--fill-color);\n",
              "      border-left-color: var(--fill-color);\n",
              "    }\n",
              "    20% {\n",
              "      border-color: transparent;\n",
              "      border-left-color: var(--fill-color);\n",
              "      border-top-color: var(--fill-color);\n",
              "    }\n",
              "    30% {\n",
              "      border-color: transparent;\n",
              "      border-left-color: var(--fill-color);\n",
              "      border-top-color: var(--fill-color);\n",
              "      border-right-color: var(--fill-color);\n",
              "    }\n",
              "    40% {\n",
              "      border-color: transparent;\n",
              "      border-right-color: var(--fill-color);\n",
              "      border-top-color: var(--fill-color);\n",
              "    }\n",
              "    60% {\n",
              "      border-color: transparent;\n",
              "      border-right-color: var(--fill-color);\n",
              "    }\n",
              "    80% {\n",
              "      border-color: transparent;\n",
              "      border-right-color: var(--fill-color);\n",
              "      border-bottom-color: var(--fill-color);\n",
              "    }\n",
              "    90% {\n",
              "      border-color: transparent;\n",
              "      border-bottom-color: var(--fill-color);\n",
              "    }\n",
              "  }\n",
              "</style>\n",
              "\n",
              "  <script>\n",
              "    async function quickchart(key) {\n",
              "      const quickchartButtonEl =\n",
              "        document.querySelector('#' + key + ' button');\n",
              "      quickchartButtonEl.disabled = true;  // To prevent multiple clicks.\n",
              "      quickchartButtonEl.classList.add('colab-df-spinner');\n",
              "      try {\n",
              "        const charts = await google.colab.kernel.invokeFunction(\n",
              "            'suggestCharts', [key], {});\n",
              "      } catch (error) {\n",
              "        console.error('Error during call to suggestCharts:', error);\n",
              "      }\n",
              "      quickchartButtonEl.classList.remove('colab-df-spinner');\n",
              "      quickchartButtonEl.classList.add('colab-df-quickchart-complete');\n",
              "    }\n",
              "    (() => {\n",
              "      let quickchartButtonEl =\n",
              "        document.querySelector('#df-49241f1a-0d09-4391-a615-0c2caa6b1b42 button');\n",
              "      quickchartButtonEl.style.display =\n",
              "        google.colab.kernel.accessAllowed ? 'block' : 'none';\n",
              "    })();\n",
              "  </script>\n",
              "</div>\n",
              "\n",
              "    </div>\n",
              "  </div>\n"
            ],
            "application/vnd.google.colaboratory.intrinsic+json": {
              "type": "dataframe",
              "variable_name": "df",
              "summary": "{\n  \"name\": \"df\",\n  \"rows\": 52,\n  \"fields\": [\n    {\n      \"column\": \"Categor\\u00eda\",\n      \"properties\": {\n        \"dtype\": \"category\",\n        \"num_unique_values\": 9,\n        \"samples\": [\n          \"Recreaci\\u00f3n y aventura\",\n          \"Guianza\",\n          \"Cafeter\\u00edas\"\n        ],\n        \"semantic_type\": \"\",\n        \"description\": \"\"\n      }\n    },\n    {\n      \"column\": \"Nombre\",\n      \"properties\": {\n        \"dtype\": \"string\",\n        \"num_unique_values\": 51,\n        \"samples\": [\n          \"Henry Carmona\",\n          \"Pite Tierra\",\n          \"Asociaci\\u00f3n GAIA\"\n        ],\n        \"semantic_type\": \"\",\n        \"description\": \"\"\n      }\n    },\n    {\n      \"column\": \"Direcci\\u00f3n\",\n      \"properties\": {\n        \"dtype\": \"string\",\n        \"num_unique_values\": 43,\n        \"samples\": [\n          \"Alto bonito planes de san Rafael\",\n          \"Carrera 6 # 5-29.  2do piso\",\n          \"Carrera 7 # 7-12\"\n        ],\n        \"semantic_type\": \"\",\n        \"description\": \"\"\n      }\n    },\n    {\n      \"column\": \"Tel\\u00e9fono\",\n      \"properties\": {\n        \"dtype\": \"string\",\n        \"num_unique_values\": 49,\n        \"samples\": [\n          \"3117933553 - 3137175673\",\n          \"3103878544\",\n          \"3104329520\"\n        ],\n        \"semantic_type\": \"\",\n        \"description\": \"\"\n      }\n    },\n    {\n      \"column\": \"Servicios\",\n      \"properties\": {\n        \"dtype\": \"string\",\n        \"num_unique_values\": 33,\n        \"samples\": [\n          \"Artesan\\u00eda en madera\",\n          \"Pesca deportiva, recorrido en cuatrimoto, atenci\\u00f3n de eventos espaciales.\",\n          \"Pista de velo arena, pista de enduro, cancha de peibol, sendero ecol\\u00f3gico, camping, hospedaje, restaurante\"\n        ],\n        \"semantic_type\": \"\",\n        \"description\": \"\"\n      }\n    },\n    {\n      \"column\": \"Latitud\",\n      \"properties\": {\n        \"dtype\": \"number\",\n        \"std\": 0.02861872523109728,\n        \"min\": 4.945356383245089,\n        \"max\": 5.126139593967784,\n        \"num_unique_values\": 48,\n        \"samples\": [\n          5.072552082755391,\n          5.10429271920481,\n          5.073067538203977\n        ],\n        \"semantic_type\": \"\",\n        \"description\": \"\"\n      }\n    },\n    {\n      \"column\": \"Longitud\",\n      \"properties\": {\n        \"dtype\": \"number\",\n        \"std\": 0.018805721194483815,\n        \"min\": -76.00179030830971,\n        \"max\": -75.90337253678476,\n        \"num_unique_values\": 48,\n        \"samples\": [\n          -75.96285105877502,\n          -75.99154145649636,\n          -75.96385539463762\n        ],\n        \"semantic_type\": \"\",\n        \"description\": \"\"\n      }\n    },\n    {\n      \"column\": \"Turismo Santuario\",\n      \"properties\": {\n        \"dtype\": \"string\",\n        \"num_unique_values\": 48,\n        \"samples\": [\n          \"POINT (-75.96285105877502 5.072552082755391)\",\n          \"POINT (-75.99154145649636 5.1042927192048095)\",\n          \"POINT (-75.96385539463762 5.073067538203977)\"\n        ],\n        \"semantic_type\": \"\",\n        \"description\": \"\"\n      }\n    }\n  ]\n}"
            }
          },
          "metadata": {},
          "execution_count": 11
        }
      ],
      "source": [
        "#solution exercise 1\n",
        "\n",
        "\n",
        "import pandas as pd\n",
        "df=pd.read_csv('bdd.csv',sep=',',header=0)\n",
        "df\n",
        "\n",
        "\n",
        "df.head()"
      ]
    },
    {
      "cell_type": "markdown",
      "id": "296df2b0",
      "metadata": {
        "id": "296df2b0"
      },
      "source": [
        "## Exercise 2.\n",
        "\n",
        "Generates two Series with two different database columns. Call them `Series1` and `Series2`, respectively"
      ]
    },
    {
      "cell_type": "code",
      "execution_count": null,
      "id": "6ec51d22",
      "metadata": {
        "id": "6ec51d22"
      },
      "outputs": [],
      "source": [
        "# Select a series\n",
        "Series1 = df['Categoría']\n",
        "Series2 = df[\"Categoría\"]\n",
        "\n",
        "type(Series1)\n",
        "type(Series2)"
      ]
    },
    {
      "cell_type": "markdown",
      "id": "b846b1b7",
      "metadata": {
        "id": "b846b1b7"
      },
      "source": [
        "## Exercise 3.\n",
        "\n",
        "Create a group according to one of the characteristics of your database. Call it `Group1`"
      ]
    },
    {
      "cell_type": "code",
      "execution_count": null,
      "id": "78506ed2",
      "metadata": {
        "id": "78506ed2",
        "colab": {
          "base_uri": "https://localhost:8080/"
        },
        "outputId": "581f2143-d154-4600-8ba1-cf04440275b5"
      },
      "outputs": [
        {
          "output_type": "execute_result",
          "data": {
            "text/plain": [
              "<pandas.core.groupby.generic.DataFrameGroupBy object at 0x7c8c25e439d0>"
            ]
          },
          "metadata": {},
          "execution_count": 28
        }
      ],
      "source": [
        "#solution exercise 3\n",
        "Group1 = df.groupby('Latitud')\n",
        "Group1"
      ]
    },
    {
      "cell_type": "markdown",
      "id": "ceeb452c",
      "metadata": {
        "id": "ceeb452c"
      },
      "source": [
        "## Exercise 4.\n",
        "\n",
        "Filter your database considering only three columns and 10 observations (you can choose freely). Display the result. Calculate the average of one of the numeric columns. What can you interpret from the results?"
      ]
    },
    {
      "cell_type": "code",
      "execution_count": null,
      "id": "f9f15208",
      "metadata": {
        "id": "f9f15208",
        "colab": {
          "base_uri": "https://localhost:8080/"
        },
        "outputId": "a8e4c524-506e-4816-c174-d0a2e98f9c65"
      },
      "outputs": [
        {
          "output_type": "execute_result",
          "data": {
            "text/plain": [
              "5.072505467847445"
            ]
          },
          "metadata": {},
          "execution_count": 29
        }
      ],
      "source": [
        "#solution exercise 4\n",
        "df.iloc[0:10,0:3]\n",
        "df.Latitud.mean()"
      ]
    }
  ],
  "metadata": {
    "kernelspec": {
      "display_name": "Python 3 (ipykernel)",
      "language": "python",
      "name": "python3"
    },
    "language_info": {
      "codemirror_mode": {
        "name": "ipython",
        "version": 3
      },
      "file_extension": ".py",
      "mimetype": "text/x-python",
      "name": "python",
      "nbconvert_exporter": "python",
      "pygments_lexer": "ipython3",
      "version": "3.9.7"
    },
    "colab": {
      "provenance": [],
      "include_colab_link": true
    }
  },
  "nbformat": 4,
  "nbformat_minor": 5
}